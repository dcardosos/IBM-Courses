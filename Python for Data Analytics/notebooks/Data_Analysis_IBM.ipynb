{
  "nbformat": 4,
  "nbformat_minor": 0,
  "metadata": {
    "colab": {
      "name": "Data Analysis IBM.ipynb",
      "provenance": [],
      "collapsed_sections": []
    },
    "kernelspec": {
      "name": "python3",
      "display_name": "Python 3"
    },
    "widgets": {
      "application/vnd.jupyter.widget-state+json": {
        "3cd3e9a456c34365a32dd796869901a6": {
          "model_module": "@jupyter-widgets/controls",
          "model_name": "VBoxModel",
          "state": {
            "_view_name": "VBoxView",
            "_dom_classes": [
              "widget-interact"
            ],
            "_model_name": "VBoxModel",
            "_view_module": "@jupyter-widgets/controls",
            "_model_module_version": "1.5.0",
            "_view_count": null,
            "_view_module_version": "1.5.0",
            "box_style": "",
            "layout": "IPY_MODEL_4fde826ce2fc4205aaddbd8fb5303807",
            "_model_module": "@jupyter-widgets/controls",
            "children": [
              "IPY_MODEL_02437ddef7fd4b7eab57e77455602d9d",
              "IPY_MODEL_f76abd3c1c8941da9556c4ed1a08b516",
              "IPY_MODEL_5c3b0262ffee4d96bb06adf826217854"
            ]
          }
        },
        "4fde826ce2fc4205aaddbd8fb5303807": {
          "model_module": "@jupyter-widgets/base",
          "model_name": "LayoutModel",
          "state": {
            "_view_name": "LayoutView",
            "grid_template_rows": null,
            "right": null,
            "justify_content": null,
            "_view_module": "@jupyter-widgets/base",
            "overflow": null,
            "_model_module_version": "1.2.0",
            "_view_count": null,
            "flex_flow": null,
            "width": null,
            "min_width": null,
            "border": null,
            "align_items": null,
            "bottom": null,
            "_model_module": "@jupyter-widgets/base",
            "top": null,
            "grid_column": null,
            "overflow_y": null,
            "overflow_x": null,
            "grid_auto_flow": null,
            "grid_area": null,
            "grid_template_columns": null,
            "flex": null,
            "_model_name": "LayoutModel",
            "justify_items": null,
            "grid_row": null,
            "max_height": null,
            "align_content": null,
            "visibility": null,
            "align_self": null,
            "height": null,
            "min_height": null,
            "padding": null,
            "grid_auto_rows": null,
            "grid_gap": null,
            "max_width": null,
            "order": null,
            "_view_module_version": "1.2.0",
            "grid_template_areas": null,
            "object_position": null,
            "object_fit": null,
            "grid_auto_columns": null,
            "margin": null,
            "display": null,
            "left": null
          }
        },
        "02437ddef7fd4b7eab57e77455602d9d": {
          "model_module": "@jupyter-widgets/controls",
          "model_name": "IntSliderModel",
          "state": {
            "_view_name": "IntSliderView",
            "style": "IPY_MODEL_c1d2e9bbb4424c698adf7cdfeeea4441",
            "_dom_classes": [],
            "description": "order",
            "step": 1,
            "_model_name": "IntSliderModel",
            "orientation": "horizontal",
            "max": 6,
            "_view_module": "@jupyter-widgets/controls",
            "_model_module_version": "1.5.0",
            "value": 5,
            "_view_count": null,
            "disabled": false,
            "_view_module_version": "1.5.0",
            "min": 0,
            "continuous_update": true,
            "readout_format": "d",
            "description_tooltip": null,
            "readout": true,
            "_model_module": "@jupyter-widgets/controls",
            "layout": "IPY_MODEL_6ef7ebf7fea743e7aac12443f458ef6e"
          }
        },
        "f76abd3c1c8941da9556c4ed1a08b516": {
          "model_module": "@jupyter-widgets/controls",
          "model_name": "FloatSliderModel",
          "state": {
            "_view_name": "FloatSliderView",
            "style": "IPY_MODEL_a7c811e1bcf64a4cb0377d91bc8bce19",
            "_dom_classes": [],
            "description": "test_data",
            "step": 0.05,
            "_model_name": "FloatSliderModel",
            "orientation": "horizontal",
            "max": 0.95,
            "_view_module": "@jupyter-widgets/controls",
            "_model_module_version": "1.5.0",
            "value": 0.2,
            "_view_count": null,
            "disabled": false,
            "_view_module_version": "1.5.0",
            "min": 0.05,
            "continuous_update": true,
            "readout_format": ".2f",
            "description_tooltip": null,
            "readout": true,
            "_model_module": "@jupyter-widgets/controls",
            "layout": "IPY_MODEL_6b358481aa6c40bba5c40ee06fd59e8c"
          }
        },
        "5c3b0262ffee4d96bb06adf826217854": {
          "model_module": "@jupyter-widgets/output",
          "model_name": "OutputModel",
          "state": {
            "_view_name": "OutputView",
            "msg_id": "",
            "_dom_classes": [],
            "_model_name": "OutputModel",
            "outputs": [
              {
                "output_type": "stream",
                "metadata": {
                  "tags": []
                },
                "text": "/usr/local/lib/python3.6/dist-packages/seaborn/distributions.py:2557: FutureWarning: `distplot` is a deprecated function and will be removed in a future version. Please adapt your code to use either `displot` (a figure-level function with similar flexibility) or `kdeplot` (an axes-level function for kernel density plots).\n  warnings.warn(msg, FutureWarning)\n/usr/local/lib/python3.6/dist-packages/seaborn/distributions.py:2557: FutureWarning: `distplot` is a deprecated function and will be removed in a future version. Please adapt your code to use either `displot` (a figure-level function with similar flexibility) or `kdeplot` (an axes-level function for kernel density plots).\n  warnings.warn(msg, FutureWarning)\n",
                "stream": "stderr"
              },
              {
                "output_type": "display_data",
                "metadata": {
                  "tags": [],
                  "needs_background": "light"
                },
                "image/png": "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\n",
                "text/plain": "<Figure size 432x288 with 1 Axes>"
              },
              {
                "output_type": "stream",
                "metadata": {
                  "tags": []
                },
                "text": "Score R^2:  0.8235806901974566\n",
                "stream": "stdout"
              }
            ],
            "_view_module": "@jupyter-widgets/output",
            "_model_module_version": "1.0.0",
            "_view_count": null,
            "_view_module_version": "1.0.0",
            "layout": "IPY_MODEL_84f7227f13a24834bab0327040765f49",
            "_model_module": "@jupyter-widgets/output"
          }
        },
        "c1d2e9bbb4424c698adf7cdfeeea4441": {
          "model_module": "@jupyter-widgets/controls",
          "model_name": "SliderStyleModel",
          "state": {
            "_view_name": "StyleView",
            "handle_color": null,
            "_model_name": "SliderStyleModel",
            "description_width": "",
            "_view_module": "@jupyter-widgets/base",
            "_model_module_version": "1.5.0",
            "_view_count": null,
            "_view_module_version": "1.2.0",
            "_model_module": "@jupyter-widgets/controls"
          }
        },
        "6ef7ebf7fea743e7aac12443f458ef6e": {
          "model_module": "@jupyter-widgets/base",
          "model_name": "LayoutModel",
          "state": {
            "_view_name": "LayoutView",
            "grid_template_rows": null,
            "right": null,
            "justify_content": null,
            "_view_module": "@jupyter-widgets/base",
            "overflow": null,
            "_model_module_version": "1.2.0",
            "_view_count": null,
            "flex_flow": null,
            "width": null,
            "min_width": null,
            "border": null,
            "align_items": null,
            "bottom": null,
            "_model_module": "@jupyter-widgets/base",
            "top": null,
            "grid_column": null,
            "overflow_y": null,
            "overflow_x": null,
            "grid_auto_flow": null,
            "grid_area": null,
            "grid_template_columns": null,
            "flex": null,
            "_model_name": "LayoutModel",
            "justify_items": null,
            "grid_row": null,
            "max_height": null,
            "align_content": null,
            "visibility": null,
            "align_self": null,
            "height": null,
            "min_height": null,
            "padding": null,
            "grid_auto_rows": null,
            "grid_gap": null,
            "max_width": null,
            "order": null,
            "_view_module_version": "1.2.0",
            "grid_template_areas": null,
            "object_position": null,
            "object_fit": null,
            "grid_auto_columns": null,
            "margin": null,
            "display": null,
            "left": null
          }
        },
        "a7c811e1bcf64a4cb0377d91bc8bce19": {
          "model_module": "@jupyter-widgets/controls",
          "model_name": "SliderStyleModel",
          "state": {
            "_view_name": "StyleView",
            "handle_color": null,
            "_model_name": "SliderStyleModel",
            "description_width": "",
            "_view_module": "@jupyter-widgets/base",
            "_model_module_version": "1.5.0",
            "_view_count": null,
            "_view_module_version": "1.2.0",
            "_model_module": "@jupyter-widgets/controls"
          }
        },
        "6b358481aa6c40bba5c40ee06fd59e8c": {
          "model_module": "@jupyter-widgets/base",
          "model_name": "LayoutModel",
          "state": {
            "_view_name": "LayoutView",
            "grid_template_rows": null,
            "right": null,
            "justify_content": null,
            "_view_module": "@jupyter-widgets/base",
            "overflow": null,
            "_model_module_version": "1.2.0",
            "_view_count": null,
            "flex_flow": null,
            "width": null,
            "min_width": null,
            "border": null,
            "align_items": null,
            "bottom": null,
            "_model_module": "@jupyter-widgets/base",
            "top": null,
            "grid_column": null,
            "overflow_y": null,
            "overflow_x": null,
            "grid_auto_flow": null,
            "grid_area": null,
            "grid_template_columns": null,
            "flex": null,
            "_model_name": "LayoutModel",
            "justify_items": null,
            "grid_row": null,
            "max_height": null,
            "align_content": null,
            "visibility": null,
            "align_self": null,
            "height": null,
            "min_height": null,
            "padding": null,
            "grid_auto_rows": null,
            "grid_gap": null,
            "max_width": null,
            "order": null,
            "_view_module_version": "1.2.0",
            "grid_template_areas": null,
            "object_position": null,
            "object_fit": null,
            "grid_auto_columns": null,
            "margin": null,
            "display": null,
            "left": null
          }
        },
        "84f7227f13a24834bab0327040765f49": {
          "model_module": "@jupyter-widgets/base",
          "model_name": "LayoutModel",
          "state": {
            "_view_name": "LayoutView",
            "grid_template_rows": null,
            "right": null,
            "justify_content": null,
            "_view_module": "@jupyter-widgets/base",
            "overflow": null,
            "_model_module_version": "1.2.0",
            "_view_count": null,
            "flex_flow": null,
            "width": null,
            "min_width": null,
            "border": null,
            "align_items": null,
            "bottom": null,
            "_model_module": "@jupyter-widgets/base",
            "top": null,
            "grid_column": null,
            "overflow_y": null,
            "overflow_x": null,
            "grid_auto_flow": null,
            "grid_area": null,
            "grid_template_columns": null,
            "flex": null,
            "_model_name": "LayoutModel",
            "justify_items": null,
            "grid_row": null,
            "max_height": null,
            "align_content": null,
            "visibility": null,
            "align_self": null,
            "height": null,
            "min_height": null,
            "padding": null,
            "grid_auto_rows": null,
            "grid_gap": null,
            "max_width": null,
            "order": null,
            "_view_module_version": "1.2.0",
            "grid_template_areas": null,
            "object_position": null,
            "object_fit": null,
            "grid_auto_columns": null,
            "margin": null,
            "display": null,
            "left": null
          }
        }
      }
    }
  },
  "cells": [
    {
      "cell_type": "code",
      "metadata": {
        "id": "0nfOOo_m6y-f"
      },
      "source": [
        "import pandas as pd\n",
        "import matplotlib.pyplot as plt\n",
        "import seaborn as sns\n",
        "from sklearn.model_selection import train_test_split\n",
        "from sklearn.linear_model import LinearRegression\n",
        "from sklearn.linear_model import Ridge\n",
        "from sklearn.model_selection import cross_val_score\n",
        "from sklearn.preprocessing import PolynomialFeatures\n",
        "from sklearn.model_selection import cross_val_predict\n",
        "from sklearn.model_selection import GridSearchCV\n",
        "from ipywidgets import interact, interactive, fixed, interact_manual\n",
        "\n",
        "def DistributionPlot(RedFunction, BlueFunction, RedName, BlueName, Title):\n",
        "    ax1 = sns.distplot(RedFunction, hist=False, color='r', label=RedName)\n",
        "    sns.distplot(BlueFunction, hist=False, color='b', label=BlueName, ax=ax1)\n",
        "    plt.title(Title)\n",
        "    plt.show()\n",
        "    plt.close()"
      ],
      "execution_count": null,
      "outputs": []
    },
    {
      "cell_type": "code",
      "metadata": {
        "colab": {
          "base_uri": "https://localhost:8080/",
          "height": 258
        },
        "id": "DyOYSEuns1cE",
        "outputId": "aac210bc-8620-44f2-d1c0-729a2883bbef"
      },
      "source": [
        "df = pd.read_csv('/content/cars-clean.csv')\n",
        "\n",
        "# only numeric features\n",
        "df = df._get_numeric_data()\n",
        "df.head()"
      ],
      "execution_count": null,
      "outputs": [
        {
          "output_type": "execute_result",
          "data": {
            "text/html": [
              "<div>\n",
              "<style scoped>\n",
              "    .dataframe tbody tr th:only-of-type {\n",
              "        vertical-align: middle;\n",
              "    }\n",
              "\n",
              "    .dataframe tbody tr th {\n",
              "        vertical-align: top;\n",
              "    }\n",
              "\n",
              "    .dataframe thead th {\n",
              "        text-align: right;\n",
              "    }\n",
              "</style>\n",
              "<table border=\"1\" class=\"dataframe\">\n",
              "  <thead>\n",
              "    <tr style=\"text-align: right;\">\n",
              "      <th></th>\n",
              "      <th>Unnamed: 0</th>\n",
              "      <th>symboling</th>\n",
              "      <th>normalized-losses</th>\n",
              "      <th>wheel-base</th>\n",
              "      <th>length</th>\n",
              "      <th>width</th>\n",
              "      <th>height</th>\n",
              "      <th>curb-weight</th>\n",
              "      <th>engine-size</th>\n",
              "      <th>bore</th>\n",
              "      <th>stroke</th>\n",
              "      <th>compression-ratio</th>\n",
              "      <th>horsepower</th>\n",
              "      <th>peak-rpm</th>\n",
              "      <th>city-mpg</th>\n",
              "      <th>highway-mpg</th>\n",
              "      <th>price</th>\n",
              "      <th>fuel-type-diesel</th>\n",
              "      <th>fuel-type-gas</th>\n",
              "      <th>aspiration-std</th>\n",
              "      <th>aspiration-turbo</th>\n",
              "    </tr>\n",
              "  </thead>\n",
              "  <tbody>\n",
              "    <tr>\n",
              "      <th>0</th>\n",
              "      <td>0</td>\n",
              "      <td>3.0</td>\n",
              "      <td>122.0</td>\n",
              "      <td>88.6</td>\n",
              "      <td>-0.438315</td>\n",
              "      <td>-0.851335</td>\n",
              "      <td>-2.029015</td>\n",
              "      <td>2548.0</td>\n",
              "      <td>130.0</td>\n",
              "      <td>3.47</td>\n",
              "      <td>2.68</td>\n",
              "      <td>9.0</td>\n",
              "      <td>111.0</td>\n",
              "      <td>5000.0</td>\n",
              "      <td>21.0</td>\n",
              "      <td>27.0</td>\n",
              "      <td>13495.0</td>\n",
              "      <td>0</td>\n",
              "      <td>1</td>\n",
              "      <td>1</td>\n",
              "      <td>0</td>\n",
              "    </tr>\n",
              "    <tr>\n",
              "      <th>1</th>\n",
              "      <td>1</td>\n",
              "      <td>3.0</td>\n",
              "      <td>122.0</td>\n",
              "      <td>88.6</td>\n",
              "      <td>-0.438315</td>\n",
              "      <td>-0.851335</td>\n",
              "      <td>-2.029015</td>\n",
              "      <td>2548.0</td>\n",
              "      <td>130.0</td>\n",
              "      <td>3.47</td>\n",
              "      <td>2.68</td>\n",
              "      <td>9.0</td>\n",
              "      <td>111.0</td>\n",
              "      <td>5000.0</td>\n",
              "      <td>21.0</td>\n",
              "      <td>27.0</td>\n",
              "      <td>16500.0</td>\n",
              "      <td>0</td>\n",
              "      <td>1</td>\n",
              "      <td>1</td>\n",
              "      <td>0</td>\n",
              "    </tr>\n",
              "    <tr>\n",
              "      <th>2</th>\n",
              "      <td>2</td>\n",
              "      <td>1.0</td>\n",
              "      <td>122.0</td>\n",
              "      <td>94.5</td>\n",
              "      <td>-0.243544</td>\n",
              "      <td>-0.185134</td>\n",
              "      <td>-0.558319</td>\n",
              "      <td>2823.0</td>\n",
              "      <td>152.0</td>\n",
              "      <td>2.68</td>\n",
              "      <td>3.47</td>\n",
              "      <td>9.0</td>\n",
              "      <td>154.0</td>\n",
              "      <td>5000.0</td>\n",
              "      <td>19.0</td>\n",
              "      <td>26.0</td>\n",
              "      <td>16500.0</td>\n",
              "      <td>0</td>\n",
              "      <td>1</td>\n",
              "      <td>1</td>\n",
              "      <td>0</td>\n",
              "    </tr>\n",
              "    <tr>\n",
              "      <th>3</th>\n",
              "      <td>3</td>\n",
              "      <td>2.0</td>\n",
              "      <td>164.0</td>\n",
              "      <td>99.8</td>\n",
              "      <td>0.194690</td>\n",
              "      <td>0.147966</td>\n",
              "      <td>0.217881</td>\n",
              "      <td>2337.0</td>\n",
              "      <td>109.0</td>\n",
              "      <td>3.19</td>\n",
              "      <td>3.40</td>\n",
              "      <td>10.0</td>\n",
              "      <td>102.0</td>\n",
              "      <td>5500.0</td>\n",
              "      <td>24.0</td>\n",
              "      <td>30.0</td>\n",
              "      <td>13950.0</td>\n",
              "      <td>0</td>\n",
              "      <td>1</td>\n",
              "      <td>1</td>\n",
              "      <td>0</td>\n",
              "    </tr>\n",
              "    <tr>\n",
              "      <th>4</th>\n",
              "      <td>4</td>\n",
              "      <td>2.0</td>\n",
              "      <td>164.0</td>\n",
              "      <td>99.4</td>\n",
              "      <td>0.194690</td>\n",
              "      <td>0.243137</td>\n",
              "      <td>0.217881</td>\n",
              "      <td>2824.0</td>\n",
              "      <td>136.0</td>\n",
              "      <td>3.19</td>\n",
              "      <td>3.40</td>\n",
              "      <td>8.0</td>\n",
              "      <td>115.0</td>\n",
              "      <td>5500.0</td>\n",
              "      <td>18.0</td>\n",
              "      <td>22.0</td>\n",
              "      <td>17450.0</td>\n",
              "      <td>0</td>\n",
              "      <td>1</td>\n",
              "      <td>1</td>\n",
              "      <td>0</td>\n",
              "    </tr>\n",
              "  </tbody>\n",
              "</table>\n",
              "</div>"
            ],
            "text/plain": [
              "   Unnamed: 0  symboling  ...  aspiration-std  aspiration-turbo\n",
              "0           0        3.0  ...               1                 0\n",
              "1           1        3.0  ...               1                 0\n",
              "2           2        1.0  ...               1                 0\n",
              "3           3        2.0  ...               1                 0\n",
              "4           4        2.0  ...               1                 0\n",
              "\n",
              "[5 rows x 21 columns]"
            ]
          },
          "metadata": {
            "tags": []
          },
          "execution_count": 3
        }
      ]
    },
    {
      "cell_type": "code",
      "metadata": {
        "colab": {
          "base_uri": "https://localhost:8080/"
        },
        "id": "csBq2E09s7c0",
        "outputId": "deb58a07-3bc7-4e6e-aefa-68833a923055"
      },
      "source": [
        "y_data = df['price']\n",
        "x_data = df.drop('price', axis=1)\n",
        "\n",
        "# separate data\n",
        "x_train, x_test, y_train, y_test = train_test_split(\n",
        "    x_data, y_data, test_size=0.25, random_state=123\n",
        ")\n",
        "\n",
        "print('Shape Train:', x_train.shape[0], 'Shape Test:', x_test.shape[0])\n"
      ],
      "execution_count": null,
      "outputs": [
        {
          "output_type": "stream",
          "text": [
            "Shape Train: 150 Shape Test: 51\n"
          ],
          "name": "stdout"
        }
      ]
    },
    {
      "cell_type": "code",
      "metadata": {
        "colab": {
          "base_uri": "https://localhost:8080/",
          "height": 417
        },
        "id": "b1kE3uiHtAuc",
        "outputId": "42001e96-5c1b-4512-826b-1f9f9f03d9e3"
      },
      "source": [
        "\n",
        "# model\n",
        "lr = LinearRegression()\n",
        "lr.fit(x_train[['horsepower']], y_train)\n",
        "print('with test:', lr.score(x_test[['horsepower']], y_test))\n",
        "print('with train:', lr.score(x_train[['horsepower']], y_train))\n",
        "yhat_lr = lr.predict(x_test[['horsepower']])\n",
        "\n",
        "DistributionPlot(\n",
        "    RedFunction=y_test,\n",
        "    BlueFunction=yhat_lr,\n",
        "    RedName='Actual Value',\n",
        "    BlueName='Predict Value',\n",
        "    Title='Distribution plot',\n",
        ")\n"
      ],
      "execution_count": null,
      "outputs": [
        {
          "output_type": "stream",
          "text": [
            "with test: 0.4632103709298415\n",
            "with train: 0.6714816716749207\n"
          ],
          "name": "stdout"
        },
        {
          "output_type": "stream",
          "text": [
            "/usr/local/lib/python3.6/dist-packages/seaborn/distributions.py:2557: FutureWarning: `distplot` is a deprecated function and will be removed in a future version. Please adapt your code to use either `displot` (a figure-level function with similar flexibility) or `kdeplot` (an axes-level function for kernel density plots).\n",
            "  warnings.warn(msg, FutureWarning)\n",
            "/usr/local/lib/python3.6/dist-packages/seaborn/distributions.py:2557: FutureWarning: `distplot` is a deprecated function and will be removed in a future version. Please adapt your code to use either `displot` (a figure-level function with similar flexibility) or `kdeplot` (an axes-level function for kernel density plots).\n",
            "  warnings.warn(msg, FutureWarning)\n"
          ],
          "name": "stderr"
        },
        {
          "output_type": "display_data",
          "data": {
            "image/png": "[encoded data removed]",
            "text/plain": [
              "<Figure size 432x288 with 1 Axes>"
            ]
          },
          "metadata": {
            "tags": [],
            "needs_background": "light"
          }
        }
      ]
    },
    {
      "cell_type": "code",
      "metadata": {
        "colab": {
          "base_uri": "https://localhost:8080/"
        },
        "id": "LndqWTJdtKdc",
        "outputId": "71d4649b-af34-42cd-ae1f-35ff92e3ac6b"
      },
      "source": [
        "# cross validation\n",
        "rcross = cross_val_score(\n",
        "    lr, x_data[['horsepower']], y_data, cv=4\n",
        ")  # how to choose num of folds\n",
        "print(rcross.mean())\n",
        "print(rcross)\n",
        "\n",
        "# negative squared error\n",
        "print(-1 * cross_val_score(lr, x_data[['horsepower']], y_data, cv=4, scoring='neg_mean_squared_error'))\n",
        "\n",
        "# accuracy (error)\n",
        "# print(cross_val_score(lr, x_data[['horsepower']], y_data, cv=4, scoring='accuracy'))\n",
        "\n"
      ],
      "execution_count": null,
      "outputs": [
        {
          "output_type": "stream",
          "text": [
            "0.5221732664777984\n",
            "[0.7747254  0.51722436 0.74881624 0.04792707]\n",
            "[20244958.23821451 43740285.03051738 12491753.70789968 17570582.82435501]\n"
          ],
          "name": "stdout"
        }
      ]
    },
    {
      "cell_type": "code",
      "metadata": {
        "colab": {
          "base_uri": "https://localhost:8080/",
          "height": 417
        },
        "id": "VgirxWkYtQwi",
        "outputId": "fbdc874d-8337-42a2-c8b8-c7690ebea0e0"
      },
      "source": [
        "# predict\n",
        "yhat_cross = cross_val_predict(lr, x_data[['horsepower']], y_data, cv=4)\n",
        "print(yhat_cross[:5])\n",
        "\n",
        "DistributionPlot(\n",
        "    y_test, yhat_cross, 'Actual Value', 'Predict Value', 'Distribution Plot'\n",
        ")\n"
      ],
      "execution_count": null,
      "outputs": [
        {
          "output_type": "stream",
          "text": [
            "[14143.6442164  14143.6442164  20817.63619486 12746.7621744\n",
            " 14764.48067952]\n"
          ],
          "name": "stdout"
        },
        {
          "output_type": "stream",
          "text": [
            "/usr/local/lib/python3.6/dist-packages/seaborn/distributions.py:2557: FutureWarning: `distplot` is a deprecated function and will be removed in a future version. Please adapt your code to use either `displot` (a figure-level function with similar flexibility) or `kdeplot` (an axes-level function for kernel density plots).\n",
            "  warnings.warn(msg, FutureWarning)\n",
            "/usr/local/lib/python3.6/dist-packages/seaborn/distributions.py:2557: FutureWarning: `distplot` is a deprecated function and will be removed in a future version. Please adapt your code to use either `displot` (a figure-level function with similar flexibility) or `kdeplot` (an axes-level function for kernel density plots).\n",
            "  warnings.warn(msg, FutureWarning)\n"
          ],
          "name": "stderr"
        },
        {
          "output_type": "display_data",
          "data": {
            "image/png": "[encoded data removed]",
            "text/plain": [
              "<Figure size 432x288 with 1 Axes>"
            ]
          },
          "metadata": {
            "tags": [],
            "needs_background": "light"
          }
        }
      ]
    },
    {
      "cell_type": "code",
      "metadata": {
        "colab": {
          "base_uri": "https://localhost:8080/",
          "height": 400
        },
        "id": "UrzqM32mtVNl",
        "outputId": "2e8ff866-d058-4eb4-c763-d72df65b4074"
      },
      "source": [
        "# mais dados\n",
        "lr_over = LinearRegression()\n",
        "lr_over.fit(x_train[['horsepower', 'curb-weight', 'engine-size', 'highway-mpg']], y_train)\n",
        "print(lr_over.score(x_test[['horsepower', 'curb-weight', 'engine-size', 'highway-mpg']], y_test))\n",
        "\n",
        "yhat_over = lr_over.predict(x_test[['horsepower', 'curb-weight', 'engine-size', 'highway-mpg']])\n",
        "\n",
        "DistributionPlot(y_test, yhat_over, 'Actual Value', 'Predict Value', 'Distribution plot')"
      ],
      "execution_count": null,
      "outputs": [
        {
          "output_type": "stream",
          "text": [
            "0.6582654732978008\n"
          ],
          "name": "stdout"
        },
        {
          "output_type": "stream",
          "text": [
            "/usr/local/lib/python3.6/dist-packages/seaborn/distributions.py:2557: FutureWarning: `distplot` is a deprecated function and will be removed in a future version. Please adapt your code to use either `displot` (a figure-level function with similar flexibility) or `kdeplot` (an axes-level function for kernel density plots).\n",
            "  warnings.warn(msg, FutureWarning)\n",
            "/usr/local/lib/python3.6/dist-packages/seaborn/distributions.py:2557: FutureWarning: `distplot` is a deprecated function and will be removed in a future version. Please adapt your code to use either `displot` (a figure-level function with similar flexibility) or `kdeplot` (an axes-level function for kernel density plots).\n",
            "  warnings.warn(msg, FutureWarning)\n"
          ],
          "name": "stderr"
        },
        {
          "output_type": "display_data",
          "data": {
            "image/png": "[encoded data removed]",
            "text/plain": [
              "<Figure size 432x288 with 1 Axes>"
            ]
          },
          "metadata": {
            "tags": [],
            "needs_background": "light"
          }
        }
      ]
    },
    {
      "cell_type": "code",
      "metadata": {
        "colab": {
          "base_uri": "https://localhost:8080/"
        },
        "id": "YRa9EJdrK_fW",
        "outputId": "b3f29fb6-5e9e-40a0-e8ee-b426dd74f005"
      },
      "source": [
        "# polynomial\n",
        "x_train, x_test, y_train, y_test = train_test_split(x_data, y_data, test_size=0.10, random_state=0)\n",
        "\n",
        "pr = PolynomialFeatures(degree=5)\n",
        "x_train_pr = pr.fit_transform(x_train[['horsepower']])\n",
        "x_test_pr = pr.fit_transform(x_test[['horsepower']])\n",
        "\n",
        "pr"
      ],
      "execution_count": null,
      "outputs": [
        {
          "output_type": "execute_result",
          "data": {
            "text/plain": [
              "PolynomialFeatures(degree=5, include_bias=True, interaction_only=False,\n",
              "                   order='C')"
            ]
          },
          "metadata": {
            "tags": []
          },
          "execution_count": 42
        }
      ]
    },
    {
      "cell_type": "code",
      "metadata": {
        "colab": {
          "base_uri": "https://localhost:8080/"
        },
        "id": "MYT5GgkDKK9R",
        "outputId": "d5232201-a883-4f84-ff38-5f7e42b3f169"
      },
      "source": [
        "poly = LinearRegression()\n",
        "poly.fit(x_train_pr, y_train)"
      ],
      "execution_count": null,
      "outputs": [
        {
          "output_type": "execute_result",
          "data": {
            "text/plain": [
              "LinearRegression(copy_X=True, fit_intercept=True, n_jobs=None, normalize=False)"
            ]
          },
          "metadata": {
            "tags": []
          },
          "execution_count": 43
        }
      ]
    },
    {
      "cell_type": "code",
      "metadata": {
        "colab": {
          "base_uri": "https://localhost:8080/"
        },
        "id": "-_Kz_tJBNE-4",
        "outputId": "23d2df21-05f4-4c04-b6f1-9eb7cab27dbd"
      },
      "source": [
        "yhat_poly = poly.predict(x_test_pr)\n",
        "poly.score(x_test_pr, y_test)"
      ],
      "execution_count": null,
      "outputs": [
        {
          "output_type": "execute_result",
          "data": {
            "text/plain": [
              "0.7980169797331421"
            ]
          },
          "metadata": {
            "tags": []
          },
          "execution_count": 44
        }
      ]
    },
    {
      "cell_type": "code",
      "metadata": {
        "colab": {
          "base_uri": "https://localhost:8080/",
          "height": 383
        },
        "id": "ENOkKJnlNgSU",
        "outputId": "4c23d352-1fb5-48a0-db64-876153075ca3"
      },
      "source": [
        "DistributionPlot(yhat_poly, y_test, 'Predict Value', 'Actual Value', 'Distribution Poly')"
      ],
      "execution_count": null,
      "outputs": [
        {
          "output_type": "stream",
          "text": [
            "/usr/local/lib/python3.6/dist-packages/seaborn/distributions.py:2557: FutureWarning: `distplot` is a deprecated function and will be removed in a future version. Please adapt your code to use either `displot` (a figure-level function with similar flexibility) or `kdeplot` (an axes-level function for kernel density plots).\n",
            "  warnings.warn(msg, FutureWarning)\n",
            "/usr/local/lib/python3.6/dist-packages/seaborn/distributions.py:2557: FutureWarning: `distplot` is a deprecated function and will be removed in a future version. Please adapt your code to use either `displot` (a figure-level function with similar flexibility) or `kdeplot` (an axes-level function for kernel density plots).\n",
            "  warnings.warn(msg, FutureWarning)\n"
          ],
          "name": "stderr"
        },
        {
          "output_type": "display_data",
          "data": {
            "image/png": "[encoded data removed]",
            "text/plain": [
              "<Figure size 432x288 with 1 Axes>"
            ]
          },
          "metadata": {
            "tags": [],
            "needs_background": "light"
          }
        }
      ]
    },
    {
      "cell_type": "code",
      "metadata": {
        "colab": {
          "base_uri": "https://localhost:8080/",
          "height": 312
        },
        "id": "cbEYMnUyOMDp",
        "outputId": "4a75fa1a-d7d2-42db-eb2f-0f481a0becea"
      },
      "source": [
        "Rsqu_test = []\n",
        "\n",
        "order = [1, 2, 3, 4]\n",
        "for n in order:\n",
        "    pr = PolynomialFeatures(degree=n)\n",
        "    \n",
        "    x_train_pr = pr.fit_transform(x_train[['horsepower']])\n",
        "    \n",
        "    x_test_pr = pr.fit_transform(x_test[['horsepower']])    \n",
        "    \n",
        "    lr.fit(x_train_pr, y_train)\n",
        "    \n",
        "    Rsqu_test.append(lr.score(x_test_pr, y_test))\n",
        "\n",
        "plt.plot(order, Rsqu_test)\n",
        "plt.xlabel('order')\n",
        "plt.ylabel('R^2')\n",
        "plt.title('R^2 Using Test Data')\n",
        "plt.text(3, 0.75, 'Maximum R^2 ')    "
      ],
      "execution_count": null,
      "outputs": [
        {
          "output_type": "execute_result",
          "data": {
            "text/plain": [
              "Text(3, 0.75, 'Maximum R^2 ')"
            ]
          },
          "metadata": {
            "tags": []
          },
          "execution_count": 54
        },
        {
          "output_type": "display_data",
          "data": {
            "image/png": "[encoded data removed]",
            "text/plain": [
              "<Figure size 432x288 with 1 Axes>"
            ]
          },
          "metadata": {
            "tags": [],
            "needs_background": "light"
          }
        }
      ]
    },
    {
      "cell_type": "code",
      "metadata": {
        "id": "Lco50ud0Qdgd"
      },
      "source": [
        "# function and interaction\n",
        "def f(order, test_data):\n",
        "  x_train, x_test, y_train, y_test = train_test_split(x_data, y_data, test_size=test_data, random_state=0)\n",
        "  pr = PolynomialFeatures(degree=order)\n",
        "  x_train_pr = pr.fit_transform(x_train[['horsepower']])\n",
        "  x_test_pr = pr.fit_transform(x_test[['horsepower']])\n",
        "  poly = LinearRegression()\n",
        "  poly.fit(x_train_pr, y_train)\n",
        "  yhat_pr = poly.predict(x_test_pr)\n",
        "  DistributionPlot(y_test, yhat_pr, 'Actual Value', 'Predict Value', 'Distribution plot')\n",
        "  print('Score R^2: ', poly.score(x_test_pr, y_test))  "
      ],
      "execution_count": null,
      "outputs": []
    },
    {
      "cell_type": "code",
      "metadata": {
        "colab": {
          "base_uri": "https://localhost:8080/",
          "height": 478,
          "referenced_widgets": [
            "3cd3e9a456c34365a32dd796869901a6",
            "4fde826ce2fc4205aaddbd8fb5303807",
            "02437ddef7fd4b7eab57e77455602d9d",
            "f76abd3c1c8941da9556c4ed1a08b516",
            "5c3b0262ffee4d96bb06adf826217854",
            "c1d2e9bbb4424c698adf7cdfeeea4441",
            "6ef7ebf7fea743e7aac12443f458ef6e",
            "a7c811e1bcf64a4cb0377d91bc8bce19",
            "6b358481aa6c40bba5c40ee06fd59e8c",
            "84f7227f13a24834bab0327040765f49"
          ]
        },
        "id": "QUsdijPGSjz0",
        "outputId": "e0fc3505-bbf9-4df6-891b-c0feb90ee796"
      },
      "source": [
        "interact(f, order=(0,6,1), test_data=(0.05, 0.95, 0.05))"
      ],
      "execution_count": null,
      "outputs": [
        {
          "output_type": "display_data",
          "data": {
            "application/vnd.jupyter.widget-view+json": {
              "model_id": "3cd3e9a456c34365a32dd796869901a6",
              "version_minor": 0,
              "version_major": 2
            },
            "text/plain": [
              "interactive(children=(IntSlider(value=3, description='order', max=6), FloatSlider(value=0.45, description='tes…"
            ]
          },
          "metadata": {
            "tags": []
          }
        },
        {
          "output_type": "execute_result",
          "data": {
            "text/plain": [
              "<function __main__.f>"
            ]
          },
          "metadata": {
            "tags": []
          },
          "execution_count": 60
        }
      ]
    },
    {
      "cell_type": "code",
      "metadata": {
        "colab": {
          "base_uri": "https://localhost:8080/"
        },
        "id": "yjSJgGDFSvP-",
        "outputId": "759f5a77-6887-46de-8397-da42eb886aa4"
      },
      "source": [
        "# ridge and grid search\n",
        "ridge = Ridge()\n",
        "parameters = {'alpha': [0.001, 0.01, 0.1, 1, 10, 100, 1000, 10000, 100000, 10000000]}\n",
        "grids = GridSearchCV(ridge, parameters, cv=5)\n",
        "\n",
        "grids.fit(x_train[['horsepower']], y_train)\n",
        "best_est = grids.best_estimator_\n",
        "best_est"
      ],
      "execution_count": null,
      "outputs": [
        {
          "output_type": "execute_result",
          "data": {
            "text/plain": [
              "Ridge(alpha=10000, copy_X=True, fit_intercept=True, max_iter=None,\n",
              "      normalize=False, random_state=None, solver='auto', tol=0.001)"
            ]
          },
          "metadata": {
            "tags": []
          },
          "execution_count": 76
        }
      ]
    },
    {
      "cell_type": "code",
      "metadata": {
        "colab": {
          "base_uri": "https://localhost:8080/"
        },
        "id": "NjmZJ1FHVEGY",
        "outputId": "9baf9706-14b4-48b3-c9f4-cdd310c8866a"
      },
      "source": [
        "best_est.score(x_test[['horsepower']], y_test)"
      ],
      "execution_count": null,
      "outputs": [
        {
          "output_type": "execute_result",
          "data": {
            "text/plain": [
              "0.7409223459849095"
            ]
          },
          "metadata": {
            "tags": []
          },
          "execution_count": 79
        }
      ]
    },
    {
      "cell_type": "code",
      "metadata": {
        "id": "X3nsUOYhWFJ5"
      },
      "source": [
        "def f_1()"
      ],
      "execution_count": null,
      "outputs": []
    }
  ]
}